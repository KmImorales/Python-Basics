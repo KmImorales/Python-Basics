{
 "cells": [
  {
   "cell_type": "code",
   "execution_count": 2,
   "metadata": {},
   "outputs": [],
   "source": [
    "import pandas as pd"
   ]
  },
  {
   "cell_type": "markdown",
   "metadata": {},
   "source": [
    "Import all the files"
   ]
  },
  {
   "cell_type": "code",
   "execution_count": null,
   "metadata": {},
   "outputs": [],
   "source": [
    "visits = pd.read_csv('visits.csv',\n",
    "                     parse_dates=[1])\n",
    "cart = pd.read_csv('cart.csv',\n",
    "                   parse_dates=[1])\n",
    "                   \n",
    "checkout = pd.read_csv('checkout.csv',\n",
    "                       parse_dates=[1])\n",
    "purchase = pd.read_csv('purchase.csv',\n",
    "                       parse_dates=[1])"
   ]
  },
  {
   "cell_type": "markdown",
   "metadata": {},
   "source": [
    "Step 1: Inspect the DataFrames using `print` and `head`"
   ]
  },
  {
   "cell_type": "code",
   "execution_count": 4,
   "metadata": {},
   "outputs": [
    {
     "name": "stdout",
     "output_type": "stream",
     "text": [
      "                                user_id          visit_time\n",
      "0  943647ef-3682-4750-a2e1-918ba6f16188 2017-04-07 15:14:00\n",
      "1  0c3a3dd0-fb64-4eac-bf84-ba069ce409f2 2017-01-26 14:24:00\n",
      "2  6e0b2d60-4027-4d9a-babd-0e7d40859fb1 2017-08-20 08:23:00\n",
      "3  6879527e-c5a6-4d14-b2da-50b85212b0ab 2017-11-04 18:15:00\n",
      "4  a84327ff-5daa-4ba1-b789-d5b4caf81e96 2017-02-27 11:25:00\n",
      "                                user_id           cart_time\n",
      "0  2be90e7c-9cca-44e0-bcc5-124b945ff168 2017-11-07 20:45:00\n",
      "1  4397f73f-1da3-4ab3-91af-762792e25973 2017-05-27 01:35:00\n",
      "2  a9db3d4b-0a0a-4398-a55a-ebb2c7adf663 2017-03-04 10:38:00\n",
      "3  b594862a-36c5-47d5-b818-6e9512b939b3 2017-09-27 08:22:00\n",
      "4  a68a16e2-94f0-4ce8-8ce3-784af0bbb974 2017-07-26 15:48:00\n",
      "                                user_id       checkout_time\n",
      "0  d33bdc47-4afa-45bc-b4e4-dbe948e34c0d 2017-06-25 09:29:00\n",
      "1  4ac186f0-9954-4fea-8a27-c081e428e34e 2017-04-07 20:11:00\n",
      "2  3c9c78a7-124a-4b77-8d2e-e1926e011e7d 2017-07-13 11:38:00\n",
      "3  89fe330a-8966-4756-8f7c-3bdbcd47279a 2017-04-20 16:15:00\n",
      "4  3ccdaf69-2d30-40de-b083-51372881aedd 2017-01-08 20:52:00\n",
      "                                user_id       purchase_time\n",
      "0  4b44ace4-2721-47a0-b24b-15fbfa2abf85 2017-05-11 04:25:00\n",
      "1  02e684ae-a448-408f-a9ff-dcb4a5c99aac 2017-09-05 08:45:00\n",
      "2  4b4bc391-749e-4b90-ab8f-4f6e3c84d6dc 2017-11-20 20:49:00\n",
      "3  a5dbb25f-3c36-4103-9030-9f7c6241cd8d 2017-01-22 15:18:00\n",
      "4  46a3186d-7f5a-4ab9-87af-84d05bfd4867 2017-06-11 11:32:00\n"
     ]
    }
   ],
   "source": [
    "print(visits.head(5))\n",
    "print(cart.head(5))\n",
    "print(checkout.head(5))\n",
    "print(purchase.head(5))"
   ]
  },
  {
   "cell_type": "markdown",
   "metadata": {},
   "source": [
    "Step 2: Left merging visits and cart"
   ]
  },
  {
   "cell_type": "code",
   "execution_count": 5,
   "metadata": {},
   "outputs": [
    {
     "name": "stdout",
     "output_type": "stream",
     "text": [
      "                                   user_id          visit_time  \\\n",
      "0     943647ef-3682-4750-a2e1-918ba6f16188 2017-04-07 15:14:00   \n",
      "1     0c3a3dd0-fb64-4eac-bf84-ba069ce409f2 2017-01-26 14:24:00   \n",
      "2     6e0b2d60-4027-4d9a-babd-0e7d40859fb1 2017-08-20 08:23:00   \n",
      "3     6879527e-c5a6-4d14-b2da-50b85212b0ab 2017-11-04 18:15:00   \n",
      "4     a84327ff-5daa-4ba1-b789-d5b4caf81e96 2017-02-27 11:25:00   \n",
      "...                                    ...                 ...   \n",
      "1995  33913ac2-03da-45ae-8fc3-fea39df827c6 2017-03-25 03:29:00   \n",
      "1996  4f850132-b99d-4623-80e6-6e61d003577e 2017-01-08 09:57:00   \n",
      "1997  f0830b9b-1f5c-4e74-b63d-3f847cc6ce70 2017-09-07 12:56:00   \n",
      "1998  b01bffa7-63ba-4cd3-9d93-eb1477c23831 2017-07-20 04:37:00   \n",
      "1999  0336ca81-8d68-443f-9248-ac0b8ad147d5 2017-11-15 10:11:00   \n",
      "\n",
      "               cart_time  \n",
      "0                    NaT  \n",
      "1    2017-01-26 14:44:00  \n",
      "2    2017-08-20 08:31:00  \n",
      "3                    NaT  \n",
      "4                    NaT  \n",
      "...                  ...  \n",
      "1995                 NaT  \n",
      "1996                 NaT  \n",
      "1997                 NaT  \n",
      "1998                 NaT  \n",
      "1999                 NaT  \n",
      "\n",
      "[2000 rows x 3 columns]\n"
     ]
    }
   ],
   "source": [
    "visits_cart = pd.merge(visits, cart, how='left')\n",
    "print(visits_cart)"
   ]
  },
  {
   "cell_type": "markdown",
   "metadata": {},
   "source": [
    "Step 3: How long is `visits_cart`?"
   ]
  },
  {
   "cell_type": "code",
   "execution_count": 6,
   "metadata": {},
   "outputs": [
    {
     "name": "stdout",
     "output_type": "stream",
     "text": [
      "2000 customers visited the site\n"
     ]
    }
   ],
   "source": [
    "print(f'{len(visits_cart)} customers visited the site')"
   ]
  },
  {
   "cell_type": "markdown",
   "metadata": {},
   "source": [
    "Step 4: How many timestamps are null for `cart_time`?"
   ]
  },
  {
   "cell_type": "code",
   "execution_count": 7,
   "metadata": {},
   "outputs": [
    {
     "name": "stdout",
     "output_type": "stream",
     "text": [
      "There are 1652 customers who visited the site but did not add any items to their cart.\n"
     ]
    }
   ],
   "source": [
    "print(f'There are {len(visits_cart[visits_cart.cart_time.isnull()])} customers who visited the site but did not add any items to their cart.')"
   ]
  },
  {
   "cell_type": "markdown",
   "metadata": {},
   "source": [
    "Step 5: What percentage only visited?"
   ]
  },
  {
   "cell_type": "code",
   "execution_count": 8,
   "metadata": {},
   "outputs": [
    {
     "name": "stdout",
     "output_type": "stream",
     "text": [
      "82.60% customers visited the site, but did not add any items to their cart.\n"
     ]
    }
   ],
   "source": [
    "visit_only_percentage = (len(visits_cart[visits_cart.cart_time.isnull()]) / len(visits_cart)) * 100\n",
    "print(f'{visit_only_percentage:.2f}% customers visited the site, but did not add any items to their cart.')"
   ]
  },
  {
   "cell_type": "markdown",
   "metadata": {},
   "source": [
    "Step 6: What percentage placed a t-shirt in their cart but did not checkout?"
   ]
  },
  {
   "cell_type": "code",
   "execution_count": 9,
   "metadata": {},
   "outputs": [
    {
     "name": "stdout",
     "output_type": "stream",
     "text": [
      "35.06% customers added items to their cart, but did not proceed to checkout.\n"
     ]
    }
   ],
   "source": [
    "cart_no_checkout = pd.merge(cart, checkout, how='left')\n",
    "no_purchase_percentage = (len(cart_no_checkout[cart_no_checkout.checkout_time.isnull()]) / len(cart_no_checkout)) * 100\n",
    "print(f'{no_purchase_percentage:.2f}% customers added items to their cart, but did not proceed to checkout.')"
   ]
  },
  {
   "cell_type": "markdown",
   "metadata": {},
   "source": [
    "Step 7: Merge it all together"
   ]
  },
  {
   "cell_type": "code",
   "execution_count": 10,
   "metadata": {},
   "outputs": [],
   "source": [
    "all_data = visits.merge(cart).merge(checkout).merge(purchase)\n"
   ]
  },
  {
   "cell_type": "markdown",
   "metadata": {},
   "source": [
    "Step 8: % of users who got to checkout but did not purchase"
   ]
  },
  {
   "cell_type": "code",
   "execution_count": 11,
   "metadata": {},
   "outputs": [
    {
     "name": "stdout",
     "output_type": "stream",
     "text": [
      "24.55% customers proceeded to checkout, but did not purchase an item.\n"
     ]
    }
   ],
   "source": [
    "checkout_no_purchase = pd.merge(checkout, purchase, how='left')\n",
    "checkout_no_purchase_percentage = (len(checkout_no_purchase[checkout_no_purchase.purchase_time.isnull()]) / len(checkout_no_purchase)) * 100\n",
    "print(f'{checkout_no_purchase_percentage:.2f}% customers proceeded to checkout, but did not purchase an item.')"
   ]
  },
  {
   "cell_type": "markdown",
   "metadata": {},
   "source": [
    "Step 9: check each part of the funnel, let's print all 3 of them again"
   ]
  },
  {
   "cell_type": "code",
   "execution_count": 12,
   "metadata": {},
   "outputs": [
    {
     "name": "stdout",
     "output_type": "stream",
     "text": [
      "82.60% customers visited the site, but did not add any items to their cart.\n",
      "35.06% customers added items to their cart, but did not proceed to checkout.\n",
      "24.55% customers proceeded to checkout, but did not purchase an item.\n"
     ]
    }
   ],
   "source": [
    "print(f'{visit_only_percentage:.2f}% customers visited the site, but did not add any items to their cart.')\n",
    "print(f'{no_purchase_percentage:.2f}% customers added items to their cart, but did not proceed to checkout.')\n",
    "print(f'{checkout_no_purchase_percentage:.2f}% customers proceeded to checkout, but did not purchase an item.')"
   ]
  },
  {
   "cell_type": "markdown",
   "metadata": {},
   "source": [
    "*The weakest part of the funnel is clearly getting a person who visited the site to add a tshirt to their cart. Once they've added a t-shirt to their cart it is fairly likely they end up purchasing it. A suggestion could be to make the add-to-cart button more prominent on the front page.*\n",
    "\n",
    "\n",
    "Step 10: adding new column"
   ]
  },
  {
   "cell_type": "code",
   "execution_count": 13,
   "metadata": {},
   "outputs": [],
   "source": [
    "shopping_time = (all_data.purchase_time - all_data.visit_time)\n",
    "all_data['time_to_purchase'] = shopping_time"
   ]
  },
  {
   "cell_type": "markdown",
   "metadata": {},
   "source": [
    "Step 11: examine the results"
   ]
  },
  {
   "cell_type": "code",
   "execution_count": 14,
   "metadata": {},
   "outputs": [
    {
     "name": "stdout",
     "output_type": "stream",
     "text": [
      "                                  user_id          visit_time  \\\n",
      "0    0c3a3dd0-fb64-4eac-bf84-ba069ce409f2 2017-01-26 14:24:00   \n",
      "1    486480e2-98c3-4d51-8f4b-b1c07228ce84 2017-01-27 16:34:00   \n",
      "2    3ccdaf69-2d30-40de-b083-51372881aedd 2017-01-08 20:21:00   \n",
      "3    3ccdaf69-2d30-40de-b083-51372881aedd 2017-01-08 20:21:00   \n",
      "4    ab0125fc-9493-4f59-ad70-24ad264a3a0c 2017-11-18 03:21:00   \n",
      "..                                    ...                 ...   \n",
      "247  d2cb350b-2201-4290-b2e0-84a8bf0d6883 2017-08-08 16:05:00   \n",
      "248  f46c88d0-2441-40a8-97fe-6841ff6f050d 2017-09-06 08:42:00   \n",
      "249  f783c680-1d9a-437d-9f45-7827299b78fa 2017-06-25 08:07:00   \n",
      "250  f783c680-1d9a-437d-9f45-7827299b78fa 2017-06-25 08:07:00   \n",
      "251  f783c680-1d9a-437d-9f45-7827299b78fa 2017-06-25 08:07:00   \n",
      "\n",
      "              cart_time       checkout_time       purchase_time  \\\n",
      "0   2017-01-26 14:44:00 2017-01-26 14:54:00 2017-01-26 15:08:00   \n",
      "1   2017-01-27 16:44:00 2017-01-27 17:10:00 2017-01-27 17:12:00   \n",
      "2   2017-01-08 20:38:00 2017-01-08 20:52:00 2017-01-08 21:02:00   \n",
      "3   2017-01-08 20:38:00 2017-01-08 20:52:00 2017-01-08 21:21:00   \n",
      "4   2017-11-18 03:33:00 2017-11-18 03:57:00 2017-11-18 04:21:00   \n",
      "..                  ...                 ...                 ...   \n",
      "247 2017-08-08 16:07:00 2017-08-08 16:34:00 2017-08-08 16:34:00   \n",
      "248 2017-09-06 09:02:00 2017-09-06 09:22:00 2017-09-06 09:28:00   \n",
      "249 2017-06-25 08:08:00 2017-06-25 08:28:00 2017-06-25 08:39:00   \n",
      "250 2017-06-25 08:08:00 2017-06-25 08:28:00 2017-06-25 08:35:00   \n",
      "251 2017-06-25 08:08:00 2017-06-25 08:28:00 2017-06-25 08:18:00   \n",
      "\n",
      "    time_to_purchase  \n",
      "0    0 days 00:44:00  \n",
      "1    0 days 00:38:00  \n",
      "2    0 days 00:41:00  \n",
      "3    0 days 01:00:00  \n",
      "4    0 days 01:00:00  \n",
      "..               ...  \n",
      "247  0 days 00:29:00  \n",
      "248  0 days 00:46:00  \n",
      "249  0 days 00:32:00  \n",
      "250  0 days 00:28:00  \n",
      "251  0 days 00:11:00  \n",
      "\n",
      "[252 rows x 6 columns]\n"
     ]
    }
   ],
   "source": [
    "df = pd.DataFrame(all_data)\n",
    "print(df)"
   ]
  },
  {
   "cell_type": "markdown",
   "metadata": {},
   "source": [
    "Step 12: average time to purchase"
   ]
  },
  {
   "cell_type": "code",
   "execution_count": 15,
   "metadata": {},
   "outputs": [
    {
     "name": "stdout",
     "output_type": "stream",
     "text": [
      "The average time to purchase is 43 minutes.\n"
     ]
    }
   ],
   "source": [
    "avg_time_to_purchase = all_data.time_to_purchase.mean().total_seconds() / 60\n",
    "print(f'The average time to purchase is {avg_time_to_purchase:.0f} minutes.')"
   ]
  },
  {
   "cell_type": "code",
   "execution_count": null,
   "metadata": {},
   "outputs": [],
   "source": []
  }
 ],
 "metadata": {
  "kernelspec": {
   "display_name": "Python 3",
   "language": "python",
   "name": "python3"
  },
  "language_info": {
   "codemirror_mode": {
    "name": "ipython",
    "version": 3
   },
   "file_extension": ".py",
   "mimetype": "text/x-python",
   "name": "python",
   "nbconvert_exporter": "python",
   "pygments_lexer": "ipython3",
   "version": "3.12.7"
  }
 },
 "nbformat": 4,
 "nbformat_minor": 4
}
