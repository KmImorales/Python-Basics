# Ensure that the inflight features are binary (0 or 1) or categorical (Yes/No)
